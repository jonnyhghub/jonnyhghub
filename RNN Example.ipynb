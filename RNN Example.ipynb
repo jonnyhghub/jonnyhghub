{
 "cells": [
  {
   "cell_type": "markdown",
   "id": "0e24f574",
   "metadata": {},
   "source": [
    "### Extra Method: RNN - Recurrent Neural Networks\n",
    "\n",
    "RNNs are a type of neural network with known capabilities for handling and making predictions on sequential and time-series data. This is due to their bi-directional nature, which contrasts with the uni-directional feed-forward neural networks that are often used as the first example when venturing into deep learning.  \n",
    "One particularly well-known RNN used for such sequential-data problems is the LSTM or 'Long short-term memory' neural network, it has some distinct structures in its design that allow the network to have a kind of selective latent memory. The specifics of this aren't explored here, but can be read about in greater detail. [1]  \n",
    "\n",
    "Below is an implementation of LSTMs using Tensorflow, it's used to make train models on the data, and the RMSE is compared to the previous models. The method is explained in comments as written.\n",
    "\n",
    "#### LSTM for Time-Series Prediction"
   ]
  },
  {
   "cell_type": "code",
   "execution_count": 72,
   "id": "55d49421",
   "metadata": {},
   "outputs": [],
   "source": [
    "# Import necessary library functions\n",
    "from tensorflow.keras.models import Sequential\n",
    "from tensorflow.keras.layers import Dense\n",
    "from tensorflow.keras.layers import LSTM\n",
    "\n",
    "def train_lstm(df, column, p, lstm_blocks=4, epochs=50, dense=1, verbose=0):\n",
    "        # Sensitive to unscaled data, so first min-max scaling if required\n",
    "        # Nb this will mess up RMSE comparisons, so predictions are reverse engineered after training\n",
    "        temp = df.copy()\n",
    "        series = temp[column]\n",
    "        \n",
    "        temp['y']  = np.array((series - min(series)) / (max(series) - min(series))) \n",
    "        temp['x'] = temp['y']\n",
    "        \n",
    "        # The LSTM's X-variables are the lagged information, and the target Y-variable, the current one,\n",
    "        # like an autoregressive model\n",
    "        X = np.empty((len(series), p))\n",
    "        for i in range(p):\n",
    "            temp['x'] = temp['x'].shift()\n",
    "            X[:, i] = temp['x']\n",
    "        \n",
    "        #Remove rows that will contain incomplete data/NaNs from shift function\n",
    "        X = X[p:, :]    \n",
    "        y = np.array(temp['y'])[p:]\n",
    "        \n",
    "        # Must reshape to fit keras' [sample, steps, features] array format\n",
    "        X = np.reshape(X, (X.shape[0], 1, p))\n",
    "        \n",
    "        # NN construction\n",
    "        nn = Sequential()\n",
    "        #LSTM Layers\n",
    "        nn.add(LSTM(lstm_blocks, input_shape=(1, p)))\n",
    "        #Normal hidden layers\n",
    "        nn.add(Dense(dense))\n",
    "        nn.compile(loss='mean_squared_error', optimizer='adam')\n",
    "        results = nn.fit(X, y, epochs=epochs, batch_size=1, verbose=verbose)\n",
    "        # Display final RMSE from minimised loss function\n",
    "        print(\"Final Model Loss MSE: {}\".format(results.history['loss'][-1]))\n",
    "        \n",
    "        preds = nn.predict(X)\n",
    "        # Must reverse engineer original values post scaling \n",
    "        predlist = [np.nan]*p\n",
    "        preds_rescaled = preds * (max(series) - min(series)) + min(series)\n",
    "        [predlist.append(val) for val in preds_rescaled]\n",
    "        temp['preds'] = predlist \n",
    "        \n",
    "        return temp"
   ]
  },
  {
   "cell_type": "code",
   "execution_count": 73,
   "id": "fadee780",
   "metadata": {
    "scrolled": false
   },
   "outputs": [
    {
     "name": "stdout",
     "output_type": "stream",
     "text": [
      "Final Model Loss MSE: 0.0014851029263809323\n",
      "LSTM RMSE: [4.9016814]\n"
     ]
    },
    {
     "data": {
      "text/plain": [
       "Naive Forecast                            4.433167\n",
       "4-Point Moving Average                    6.323386\n",
       "4-Point Moving Average of Differences     5.096058\n",
       "Seasonal Naive                           10.032894\n",
       "Name: Orange Juice Ticker, dtype: float64"
      ]
     },
     "execution_count": 73,
     "metadata": {},
     "output_type": "execute_result"
    }
   ],
   "source": [
    "results = train_lstm(oj, 'Close', 4, epochs=500)\n",
    "print(\"LSTM RMSE: {}\".format(eval_fcast(results, 'Close', 'preds')))\n",
    "eval_matrix.loc['Orange Juice Ticker', :]"
   ]
  },
  {
   "cell_type": "markdown",
   "id": "143e2658",
   "metadata": {},
   "source": [
    "With a relatively small amount of training, the LSTM neural network produces results with an RMSE slightly below; however with a larger number of epochs, this value is likely to improve. Epochs are essentially iterations off passes over the training data by the neural network, the more epochs, the more training, and the more the model fits to the training data's function.  Here is a second example with an increased number of epochs performed:"
   ]
  },
  {
   "cell_type": "code",
   "execution_count": 74,
   "id": "45a18a93",
   "metadata": {
    "scrolled": true
   },
   "outputs": [
    {
     "name": "stdout",
     "output_type": "stream",
     "text": [
      "Final Model Loss MSE: 0.0014920104295015335\n",
      "LSTM RMSE: [4.328945]\n"
     ]
    }
   ],
   "source": [
    "longer = train_lstm(oj, 'Close', 4, epochs=2000)\n",
    "print(\"LSTM RMSE: {}\".format(eval_fcast(longer, 'Close', 'preds')))"
   ]
  },
  {
   "cell_type": "markdown",
   "id": "e3f02348",
   "metadata": {},
   "source": [
    "Running on all datasets and comparing to basic methods:"
   ]
  },
  {
   "cell_type": "code",
   "execution_count": 75,
   "id": "cdcc5553",
   "metadata": {},
   "outputs": [
    {
     "name": "stdout",
     "output_type": "stream",
     "text": [
      "Final Model Loss MSE: 0.0033828800078481436\n",
      "Final Model Loss MSE: 0.021850088611245155\n",
      "Final Model Loss MSE: 0.00500189745798707\n",
      "Final Model Loss MSE: 0.0007401913753710687\n",
      "Final Model Loss MSE: 0.0003037355199921876\n"
     ]
    }
   ],
   "source": [
    "nikkei = train_lstm(nikkei, 'Close', 4, epochs=500)\n",
    "house = train_lstm(house, 'price', 4, epochs=500)\n",
    "temps = train_lstm(temps, 'Temperature', 4, epochs=500)\n",
    "ada = train_lstm(ada, 'Close', 4, epochs=500)\n",
    "jpy = train_lstm(jpy_cny, 'Close', 4, epochs=500)"
   ]
  },
  {
   "cell_type": "code",
   "execution_count": 76,
   "id": "0615c05a",
   "metadata": {},
   "outputs": [
    {
     "data": {
      "text/html": [
       "<div>\n",
       "<style scoped>\n",
       "    .dataframe tbody tr th:only-of-type {\n",
       "        vertical-align: middle;\n",
       "    }\n",
       "\n",
       "    .dataframe tbody tr th {\n",
       "        vertical-align: top;\n",
       "    }\n",
       "\n",
       "    .dataframe thead th {\n",
       "        text-align: right;\n",
       "    }\n",
       "</style>\n",
       "<table border=\"1\" class=\"dataframe\">\n",
       "  <thead>\n",
       "    <tr style=\"text-align: right;\">\n",
       "      <th></th>\n",
       "      <th>Naive Forecast</th>\n",
       "      <th>4-Point Moving Average</th>\n",
       "      <th>4-Point Moving Average of Differences</th>\n",
       "      <th>Seasonal Naive</th>\n",
       "      <th>LSTM</th>\n",
       "    </tr>\n",
       "  </thead>\n",
       "  <tbody>\n",
       "    <tr>\n",
       "      <th>Orange Juice Ticker</th>\n",
       "      <td>4.433167</td>\n",
       "      <td>6.323386</td>\n",
       "      <td>5.096058</td>\n",
       "      <td>10.032894</td>\n",
       "      <td>4.328945</td>\n",
       "    </tr>\n",
       "    <tr>\n",
       "      <th>ADA GBP</th>\n",
       "      <td>0.053271</td>\n",
       "      <td>0.068681</td>\n",
       "      <td>0.060013</td>\n",
       "      <td>0.109874</td>\n",
       "      <td>0.055592</td>\n",
       "    </tr>\n",
       "    <tr>\n",
       "      <th>JPY CNY</th>\n",
       "      <td>0.000332</td>\n",
       "      <td>0.000423</td>\n",
       "      <td>0.000371</td>\n",
       "      <td>0.000689</td>\n",
       "      <td>0.000346</td>\n",
       "    </tr>\n",
       "    <tr>\n",
       "      <th>Nikkei</th>\n",
       "      <td>342.512712</td>\n",
       "      <td>461.762239</td>\n",
       "      <td>384.041281</td>\n",
       "      <td>752.020005</td>\n",
       "      <td>342.395752</td>\n",
       "    </tr>\n",
       "    <tr>\n",
       "      <th>House Prices</th>\n",
       "      <td>124991.752850</td>\n",
       "      <td>103019.161375</td>\n",
       "      <td>142487.876067</td>\n",
       "      <td>120252.603191</td>\n",
       "      <td>89277.671875</td>\n",
       "    </tr>\n",
       "    <tr>\n",
       "      <th>NI Temps</th>\n",
       "      <td>2.616180</td>\n",
       "      <td>4.843154</td>\n",
       "      <td>2.969773</td>\n",
       "      <td>1.673777</td>\n",
       "      <td>1.359446</td>\n",
       "    </tr>\n",
       "  </tbody>\n",
       "</table>\n",
       "</div>"
      ],
      "text/plain": [
       "                     Naive Forecast  4-Point Moving Average   \n",
       "Orange Juice Ticker        4.433167                6.323386  \\\n",
       "ADA GBP                    0.053271                0.068681   \n",
       "JPY CNY                    0.000332                0.000423   \n",
       "Nikkei                   342.512712              461.762239   \n",
       "House Prices          124991.752850           103019.161375   \n",
       "NI Temps                   2.616180                4.843154   \n",
       "\n",
       "                     4-Point Moving Average of Differences  Seasonal Naive   \n",
       "Orange Juice Ticker                               5.096058       10.032894  \\\n",
       "ADA GBP                                           0.060013        0.109874   \n",
       "JPY CNY                                           0.000371        0.000689   \n",
       "Nikkei                                          384.041281      752.020005   \n",
       "House Prices                                 142487.876067   120252.603191   \n",
       "NI Temps                                          2.969773        1.673777   \n",
       "\n",
       "                             LSTM  \n",
       "Orange Juice Ticker      4.328945  \n",
       "ADA GBP                  0.055592  \n",
       "JPY CNY                  0.000346  \n",
       "Nikkei                 342.395752  \n",
       "House Prices         89277.671875  \n",
       "NI Temps                 1.359446  "
      ]
     },
     "execution_count": 76,
     "metadata": {},
     "output_type": "execute_result"
    }
   ],
   "source": [
    "lstm_results = [eval_fcast(longer, 'Close', 'preds')[0]]\n",
    "[lstm_results.append(eval_fcast(d, 'Close', 'preds')[0]) for d in [ada, jpy, nikkei]]\n",
    "lstm_results.append(eval_fcast(house, 'price', 'preds')[0])\n",
    "lstm_results.append(eval_fcast(temps, 'Temperature', 'preds')[0])\n",
    " \n",
    "eval_matrix['LSTM'] = lstm_results\n",
    "eval_matrix"
   ]
  },
  {
   "cell_type": "markdown",
   "id": "ca5fe3e7",
   "metadata": {},
   "source": [
    "Comparing with the basic forecast methods, we can see the RMSEs for the majority of the LSTM models is actually below the naive forecast benchmark, and these were relatively undertrained models. With a larger number of epochs and more fine tuning of the structures and input variables, these results may be improved even further.  \n",
    "The more difficult to predict series appear to be the currency exchange ratios, which behave more unpredictably, and are likely to be more affected by real-world fundamental geopolitical factors, rather than purely mathematical procedures."
   ]
  },
  {
   "cell_type": "markdown",
   "id": "4a98d0ae",
   "metadata": {},
   "source": [
    "#### Sources, References, Libraries\n",
    "[1] - LSTM: https://www.geeksforgeeks.org/understanding-of-lstm-networks/\n",
    "\n",
    "numpy - https://numpy.org/  \n",
    "pandas - https://pandas.pydata.org/  \n",
    "statsmodels - https://www.statsmodels.org/stable/index.html  \n",
    "keras - https://keras.io/  "
   ]
  },
  {
   "cell_type": "code",
   "execution_count": null,
   "id": "b0abc389",
   "metadata": {},
   "outputs": [],
   "source": []
  }
 ],
 "metadata": {
  "kernelspec": {
   "display_name": "Python 3 (ipykernel)",
   "language": "python",
   "name": "python3"
  },
  "language_info": {
   "codemirror_mode": {
    "name": "ipython",
    "version": 3
   },
   "file_extension": ".py",
   "mimetype": "text/x-python",
   "name": "python",
   "nbconvert_exporter": "python",
   "pygments_lexer": "ipython3",
   "version": "3.8.8"
  }
 },
 "nbformat": 4,
 "nbformat_minor": 5
}
